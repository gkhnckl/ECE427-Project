{
 "cells": [
  {
   "cell_type": "markdown",
   "metadata": {},
   "source": [
    "# ECE 427 Final Project Instructions\n",
    "\n",
    "ECE 427 Fall 2021 Final Project  \n",
    "\n",
    "Professor: Line Roald  \n",
    "Main TA: Kshitij Girigoudar\n",
    "\n",
    "**Collaboration:**  \n",
    "You will form teams of three people to collaborate on this project.  Collaboration between teams is discouraged.  \n",
    "\n",
    "**Project Files:**  \n",
    "This Julia notebook template (which you will use as a template for your report) and the network data files for the Wisconsin power system are available on the course website.  \n",
    "  \n",
    "**Project Deliverables:**  \n",
    "Julia Notebook Report – due **Friday, December 17 at midnight**  \n",
    "\"Poster Session\" – Tuesday, December 14 from 1 - 2pm.  \n",
    "\n",
    "### Project Description\n",
    "  \n",
    "The energy future of Wisconsin is in your hands! You and your partners have been tasked with developing a plan to for the future grid in Wisconsin. \n",
    "\n",
    "In this project, you will first analyse the **current and future electricity generation in Wisconsin**. \n",
    "\n",
    "Starting from an older model of the Wisconsin grid (provided by us below), you will research the generation mix (type and location of generators) has changed in recent years and will be changing in the near future. \n",
    "\n",
    "Then, you will look into options for how to continue to serve electric load in Wisconsin (i.e., build new generation, build new transmission lines, plan to rely more/less on electricity imports). Here you can both consider projects that have already happened or are under construction/planning, or you can propose your own solution. \n",
    "\n",
    "Next, you will **design the future Wisconsin grid**. This involves making updates to the Wisconsin grid model to reflect your analysis above and make sure that the grid can operate in a safe manner. \n",
    "\n",
    "As part of this design, you will need to propose the generation technology, siting and capacity of the different energy sources, and suggest locations for new transmission lines. At the same time, you have to consider the cost of implementing your plan. Remember that renewable energy such as wind or solar generation vary over time. Your upgrade plan can also include the installation of new transmission lines.  \n",
    "  \n",
    "For your grid design, you are asked to plan for two different days:  \n",
    "1.\tA stormy winter day with little sun, but a lot of wind where the load is higher than usual due to low temperatures.\n",
    "2.\tA sunny summer day with a lot of sun, but less wind where the load is high due to high temperature!\n",
    "  \n",
    "The resulting system must keep all transmission line flows and voltages within limits. Remember that you have to find **one** upgrade solution that works both in summer and in winter. \n",
    "\n",
    "**Goal and emphasis:**  \n",
    "The goal of this study is to create a good plan for the future Wisconsin grid, while taking into account changes that are already ongoing. This very short study (1 month) is directed more heavily on **power flow feasibility** of your plan, and it is intended to highlight some of the challenges and opportunities that arise with renewable energy sources.  Researching, discussing, and proposing a feasible solution that provides power to everyone in Wisconsin both in the summer and in the winter is needed to complete the project.  The cost of such a project is not inconsequential and should be considered and discussed.\n",
    "\n",
    "The first main task of this project is to researching information about the current and near-future state of the grid in Wisconsin, as well as information necessary to make a reasonable, cost efficient plan to add generation and extend the transmission grid. This includes   \n",
    "• Properties of wind power: siting, cost, capacity factors, etc.  \n",
    "• Properties of solar power: siting, cost, capacity factors, etc.  \n",
    "• Other generation sources, etc.  \n",
    "• Cost of building new transmission lines.  \n",
    "  \n",
    "The second main task of the project is to ensure that your proposed solution is feasible, meaning that you can provide a feasible generation dispatch where (1) generators operate within their bounds, (2) the power flow on all transmission lines is within the limits and (3) all voltage magnitudes remain in the range between 0.95 and 1.05 pu (which is tighter than the existing limits, meaning we want to make the voltages better than they currently are!).\n",
    "\n",
    "In your report, remember to discuss the following:  \n",
    "• Explain your choice of location for renewable energy (or other replacement generation). For renewable energy, the location for the new generation needs to make sense.  For example, to assess wind power potential, you can refer to the Wind Resource Maps of Wisconsin, or other similar resources you may find. Likewise for solar and other sources.     \n",
    "• This is a costly project. Remember to consider the cost of implementing your plan when designing the new energy system.  \n",
    "• Discuss any challenges and solutions to ensure that voltages and power flows remain within acceptable limits.  \n",
    "• How does your siting choices impact the power flows and voltages in the grid?  \n",
    "• Consider practical difficulties that might hinder your plan.  \n",
    "• Other important issues that can’t be covered in an idealized limited-time project. If there are things that you think should be considered in this project (in a real-life situation), but you cannot include due to lack of time or report length, mention those issues in your report.  \n",
    "\n",
    "**Constraints:**  \n",
    "• The target is 20 years in the future, so you can be creative and consider emerging technology for your design.   \n",
    "• For simplicity, you can assume that the power consumption is the same in summer and winter.  \n",
    "• Electrical parameters and limits for upgraded transmission lines or new transmission lines should be consistent with those appearing on similar lines in the existing model (and/or justified by appropriate references).  \n",
    "  \n",
    "**Resources:**  \n",
    "In general, a lot of information can be found at the Energy Information Agency, MidContinent ISO, NREL and other websites.  \n",
    "\n",
    "General advice on writing a report is available from the Writing Center:\n",
    "https://writing.wisc.edu/Handbook/index.html\n",
    "https://writing.wisc.edu/Handbook/SciRep/ScienceReport.html\n",
    "\n",
    "For more help on using Markdown, see [this reference](https://github.com/adam-p/markdown-here/wiki/Markdown-Cheatsheet).\n",
    "\n",
    "**IMPORTANT NOTE: NO PLAGIARISM!** \n",
    "Make sure to reference and cite the sources you obtain information from, and do not copy text. You have to write the report in your own words.\n",
    "\n",
    "**Referencing and paraphrasing:**  \n",
    "To avoid questions about plagiarism, familiarize yourself with standards for referencing, quoting and paraphrasing. The UW Madison Writing Center provide good resources:\n",
    "\n",
    "Quoting and paraphrasing: https://writing.wisc.edu/Handbook/QuotingSources.html  \n",
    "General information about references: https://writing.wisc.edu/Handbook/General/DocGeneral.html  \n",
    "For the references in your report, please use the IEEE style (with numbered references), described in those links:  \n",
    "https://writing.wisc.edu/Handbook/DocIEEE.html  \n",
    "https://writing.wisc.edu/Handbook/DocIEEE_Citations.html  \n",
    "https://writing.wisc.edu/Handbook/DocIEEE_References.html  \n",
    "\n",
    "\n",
    "### Poster Session\n",
    "\n",
    "After you have come up with your ideas for how to renew the Wisconsin electric system, you are invited to present your solution in a large event with other teams! You will create a virtual poster that you can use to present your project during a virtual poster session.  \n",
    "\n",
    "During the poster sessions, we will split the class in two. Groups 1-8 will present their posters from 1-1.30pm, while the students from groups 9-16 will visit their posters, ask questions and do a peer evaluation. \n",
    "From 1.30-2pm, we will switch roles. Group 9-16 will present their posters, while the students from group 1-8 will visit, ask questions and do evaluations.   \n",
    "\n",
    "When you think about how to create your poster, consider what information you need on that slide in order to present the main ideas and results from your project in about 2-3 minutes. Discuss how to make the presentation such that everyone in the group gets to present some part of the project.   \n",
    "\n",
    "When you create your virtual poster, remember that the screen is small, but it is allowed to zoom in and out. You can also keep additional \"backup material\" on hand that you can use to explain more details if the visitors to your poster have specific questions.\n"
   ]
  },
  {
   "cell_type": "markdown",
   "metadata": {},
   "source": [
    "# ECE 427 Final Project Report Template \n",
    "\n",
    "Below is a template for your project to help you get on the right track. We have also included the code you need to analyse the system and find your solution. The final report should be submitted as **working notebook** where we can run the code and replicate your results. However, we also expect that you include figures, tables and explanations such that we can understand your solutions without running the code by ourselves.\n"
   ]
  },
  {
   "cell_type": "markdown",
   "metadata": {},
   "source": [
    "## Executive summary (or abstract)\n",
    "\n",
    "A paragraph that describes the main findings of your project. This is for readers who want to understand the highlights, without having to read the full report. \n",
    "  \n",
    "  \n",
    "  \n",
    "  "
   ]
  },
  {
   "cell_type": "markdown",
   "metadata": {},
   "source": [
    "## 1. Introduction\n",
    "\n",
    "The introduction should be written assuming the reader is not aware of the purpose of the report in advance. (Assume the report is written for one of your fellow students in ECE 427 who has not seen the project assignment)"
   ]
  },
  {
   "cell_type": "markdown",
   "metadata": {},
   "source": [
    "## 2. Analysis of changes in the Wisconsin grid\n",
    "\n",
    "Research and discuss upgrades that have are scheduled to happen (or that you woud like to see happen) in Wisconsin in the next 20 years.\n",
    "\n",
    "### 2.1 Generation retirements\n",
    "\n",
    "Can you find any generators are are scheduled to retire in the next 20 years? The list does not have to be exhaustive, but identify at least 2-3 generators that are going to retire. Discuss pros and cons of these generation are retirements.\n",
    "\n",
    "### 2.2 Generation and transmission additions\n",
    "\n",
    "Discuss what options exist for continuing to serve the electric load in Wisconsin (new generation? new transmission?). You can use information about new generation capacity or transmission lines that are in planning/have already been installed, and add your own thoughts/suggestions.\n",
    "\n",
    "Make sure to include [citations](https://en.wikipedia.org/wiki/Citation) where appropriate. You can also include pictures!"
   ]
  },
  {
   "cell_type": "markdown",
   "metadata": {},
   "source": [
    "## 3. Identification of sites for new generation and transmission\n",
    "\n",
    "Based on your discussion above describe a reasonable, cost efficient plan to add generation and extend the transmission grid to enable low-carbon power generation in Wisconsin. This includes   \n",
    "• Properties of wind power: siting, cost, capacity factors, etc.  \n",
    "• Properties of solar power: siting, cost, capacity factors, etc.  \n",
    "• Other generation sources, etc.  \n",
    "• Cost of building new transmission lines.  \n",
    "\n",
    "Make sure to include [citations](https://en.wikipedia.org/wiki/Citation) where appropriate. You can also include pictures!"
   ]
  },
  {
   "cell_type": "markdown",
   "metadata": {},
   "source": [
    "## 4. Power flow analysis\n",
    "\n",
    "Use the code provided below to analyze the power flow in your proposed transmission upgrade solution! \n",
    "\n",
    "Instructions: \n",
    "1. Use the data and provided code for the existing system (as described in Wisconsin_Existing.m) to learn how to run a power flow, analyze the results and change the generation setpoints. If you wish, you can keep the code for the existing system as a reference in your final report, or you can remove it.\n",
    "2. Load the data for the proposed system (included in Wisconsin_Proposed.m), and add your proposed generators and transmission line extensions using the provided functions. For each generator or transmission line that you add, include a small description (i.e., describe how the generator(s)/transmission line(s) you are adding relate to the previous section)\n",
    "3. Choose appropriate generation values for the generators in the summer and the winter case. Run each case and check feasibility.  \n",
    "\n",
    "If your solution is not feasibile, reconsider where to add generation/transmission!"
   ]
  },
  {
   "cell_type": "markdown",
   "metadata": {},
   "source": [
    "### Setting up the code\n",
    "\n",
    "Run the two cells below to install the required packages and load these packages so they are available to you. While you only have to install the packages once, you have to load them every time you want to run the code."
   ]
  },
  {
   "cell_type": "code",
   "execution_count": 1,
   "metadata": {},
   "outputs": [],
   "source": [
    "# # Install the necessary packages (can be commented out after you have done this once)\n",
    "\n",
    "# using Pkg # load the Pkg package!\n",
    "\n",
    "# # Add Julia packages to analyze power systems\n",
    "\n",
    "# # PowerModels for power flow analysis and optimal power flow\n",
    "# Pkg.add(\"PowerModels\")\n",
    "\n",
    "# # Packages for plotting the results\n",
    "# Pkg.add(\"PowerPlots\")\n",
    "# Pkg.add(\"ElectronDisplay\")\n",
    "# Pkg.add(\"Setfield\")\n",
    "# Pkg.add(\"ColorSchemes\")\n",
    "# Pkg.add(\"JSON\")\n",
    "# Pkg.add(\"VegaLite\")\n",
    "# Pkg.add(\"FilePaths\")\n",
    "# Pkg.add(\"VegaDatasets\")\n",
    "\n",
    "\n",
    "# # IpOpt as a solver for the non-linear equations\n",
    "# # Pkg.add(\"Ipopt\")"
   ]
  },
  {
   "cell_type": "code",
   "execution_count": 2,
   "metadata": {},
   "outputs": [
    {
     "name": "stdout",
     "output_type": "stream",
     "text": [
      "\u001b[32m[info | PowerModels]: Suppressing information and warning messages for the rest of this session.  Use the Memento package for more fine-grained control of logging.\u001b[39m\n"
     ]
    },
    {
     "data": {
      "text/plain": [
       "Logger(PowerModels)"
      ]
     },
     "execution_count": 2,
     "metadata": {},
     "output_type": "execute_result"
    }
   ],
   "source": [
    "# Load the power system analysis packages\n",
    "\n",
    "using PowerModels \n",
    "using PowerPlots, ElectronDisplay, Setfield, ColorSchemes\n",
    "using JSON, VegaLite, FilePaths, VegaDatasets\n",
    "#using Ipopt\n",
    "\n",
    "# Suppress some warnings and info from power models parsing \n",
    "PowerModels.silence()\n",
    "PowerModels.logger_config!(\"error\")\n"
   ]
  },
  {
   "cell_type": "markdown",
   "metadata": {},
   "source": [
    "After you have loaded the packages but before you get continue, you need to load the **helper functions**! The helper functions are created to make your analysis easier. \n",
    "**You do not have to understand how the helper functions work internally**, just how to use them. "
   ]
  },
  {
   "cell_type": "code",
   "execution_count": 3,
   "metadata": {},
   "outputs": [
    {
     "data": {
      "text/plain": [
       "solve_power_flow! (generic function with 1 method)"
      ]
     },
     "execution_count": 3,
     "metadata": {},
     "output_type": "execute_result"
    }
   ],
   "source": [
    "include(\"Helper_functions.jl\")"
   ]
  },
  {
   "cell_type": "markdown",
   "metadata": {},
   "source": [
    "### Loading and analyzing the existing power grid data for Wisconsin\n",
    "\n",
    "Next, we will load the existing power grid data for Wisconsin. Make sure to keep the file \"Wisconsin_Existing.m\" in the same directory as your notebook!"
   ]
  },
  {
   "cell_type": "code",
   "execution_count": 4,
   "metadata": {},
   "outputs": [],
   "source": [
    "# Load the Wisconsin data file\n",
    "existing_network = PowerModels.parse_file(\"Wisconsin_Existing.m\");"
   ]
  },
  {
   "cell_type": "markdown",
   "metadata": {},
   "source": [
    "Plot the network! This should open a new window. Note that the legend in the plot shows the loading of the transmission lines and generators. A red generator or transmission line indicates that the generator or transmission line is loaded to their limit! "
   ]
  },
  {
   "cell_type": "code",
   "execution_count": 5,
   "metadata": {},
   "outputs": [
    {
     "name": "stdout",
     "output_type": "stream",
     "text": [
      "\u001b[35m[warn | PowerPlots]: Data column \"ComponentType\" does not exist for DC line\u001b[39m\n",
      "\n"
     ]
    },
    {
     "data": {
      "text/plain": [
       "Electron.Window(Application(Base.PipeEndpoint(Base.Libc.WindowsRawSocket(0x0000000000000414) open, 0 bytes waiting), Process(`\u001b[4m'C:\\Users\\Gokhan\\.julia\\artifacts\\ca0342e0bab6657b29b8c9153ccf8b6983ee0670\\electron.exe'\u001b[24m \u001b[4m'C:\\Users\\Gokhan\\.julia\\packages\\Electron\\ILvWR\\src\\main.js'\u001b[24m \u001b[4m'\\\\.\\pipe\\jlel-15b7ada0588011ec2cdd5748ea514422'\u001b[24m \u001b[4m'\\\\.\\pipe\\jlel-sn-15b7ada0588011ec3c9acb3d1f05a3dc'\u001b[24m \u001b[4mlyqjozOtBF8DGbPDqe7jNKvgLvgjiEMsIytsD1PTb3jL/o8b1FNxlPnvVINer9d23cZP/dGJG/e9b8+ROqxwD2cAIKQdhaAOrQAmbWO+10BsA+Uxer18MsujdqyH9Flc4dkkY2N1TmQNWN3wVvfbH4zh5zINMD1eQeBMeh54In4=\u001b[24m`, ProcessRunning), [1 window]), 1, true, Channel{Any}(128))"
      ]
     },
     "execution_count": 5,
     "metadata": {},
     "output_type": "execute_result"
    }
   ],
   "source": [
    "# Plot the network with power flow results\n",
    "plot_powerflow(existing_network)"
   ]
  },
  {
   "cell_type": "markdown",
   "metadata": {},
   "source": [
    "Next, we run a power flow and plot the results again (the results should look similar!)."
   ]
  },
  {
   "cell_type": "code",
   "execution_count": 6,
   "metadata": {},
   "outputs": [
    {
     "name": "stdout",
     "output_type": "stream",
     "text": [
      "The solver found an AC power flow solution.\n",
      "\u001b[35m[warn | PowerPlots]: Data column \"ComponentType\" does not exist for DC line\u001b[39m\n"
     ]
    },
    {
     "data": {
      "text/plain": [
       "Electron.Window(Application(Base.PipeEndpoint(Base.Libc.WindowsRawSocket(0x0000000000000414) open, 0 bytes waiting), Process(`\u001b[4m'C:\\Users\\Gokhan\\.julia\\artifacts\\ca0342e0bab6657b29b8c9153ccf8b6983ee0670\\electron.exe'\u001b[24m \u001b[4m'C:\\Users\\Gokhan\\.julia\\packages\\Electron\\ILvWR\\src\\main.js'\u001b[24m \u001b[4m'\\\\.\\pipe\\jlel-15b7ada0588011ec2cdd5748ea514422'\u001b[24m \u001b[4m'\\\\.\\pipe\\jlel-sn-15b7ada0588011ec3c9acb3d1f05a3dc'\u001b[24m \u001b[4mlyqjozOtBF8DGbPDqe7jNKvgLvgjiEMsIytsD1PTb3jL/o8b1FNxlPnvVINer9d23cZP/dGJG/e9b8+ROqxwD2cAIKQdhaAOrQAmbWO+10BsA+Uxer18MsujdqyH9Flc4dkkY2N1TmQNWN3wVvfbH4zh5zINMD1eQeBMeh54In4=\u001b[24m`, ProcessRunning), [1 window]), 1, true, Channel{Any}(128))"
      ]
     },
     "execution_count": 6,
     "metadata": {},
     "output_type": "execute_result"
    }
   ],
   "source": [
    "# Run a power flow\n",
    "solve_power_flow!(existing_network)\n",
    "\n",
    "# Plot the power flow results (should still look similar!)\n",
    "plot_powerflow(existing_network)"
   ]
  },
  {
   "cell_type": "markdown",
   "metadata": {},
   "source": [
    "While the map is very useful for understanding **where** problems such as overloads occur, it is often times very useful to print a summary of all the generators, transmission line flows and voltage magnitudes in the system. This helps us analyze for example how large the power flow are, or how much extra generation capacity we have on a generator. Below are three functions that help you print the generation dispatch, the power flows and the voltage magnitudes in the network.  \n",
    "\n",
    "**In your proposed solution, no generator or transmission line should be overloaded, and no bus should have either under or overvoltage.**"
   ]
  },
  {
   "cell_type": "code",
   "execution_count": 7,
   "metadata": {},
   "outputs": [
    {
     "name": "stdout",
     "output_type": "stream",
     "text": [
      "Gen 8 at bus OAKCRK G:\n",
      "Active power: 90.0 (max is 314.0)\n",
      "Reactive power: 106.58000000000001 (max is 126.0)\n",
      "\n",
      "Gen 4 at bus WCCF CT: HIGH LOAD\n",
      "Active power: 146.0 (max is 146.0)\n",
      "Reactive power: 49.16 (max is 74.0)\n",
      "\n",
      "Gen 1 at bus COL G1:\n",
      "Active power: 105.0 (max is 525.0)\n",
      "Reactive power: 104.67 (max is 247.00000000000003)\n",
      "\n",
      "OVERLOAD!!!!! Gen 5 at bus PNTBCH G1: OVERLOAD!!!!!\n",
      "Active power: 512.02 (max is 512.0)\n",
      "Reactive power: 74.74 (max is 205.6)\n",
      "\n",
      "Gen 2 at bus COL G2:\n",
      "Active power: 105.0 (max is 525.0)\n",
      "Reactive power: 105.24 (max is 245.00000000000003)\n",
      "\n",
      "OVERLOAD!!!!! Gen 6 at bus PNTBCH G1: OVERLOAD!!!!!\n",
      "Active power: 514.02 (max is 514.0)\n",
      "Reactive power: 71.98 (max is 198.0)\n",
      "\n",
      "Gen 7 at bus OAKCRK G:\n",
      "Active power: 115.84999999999998 (max is 298.0)\n",
      "Reactive power: 112.86 (max is 136.0)\n",
      "\n",
      "Gen 10 at bus World SE:\n",
      "Active power: 600.0 (max is 1000.0)\n",
      "Reactive power: 136.7 (max is 9900.0)\n",
      "\n",
      "Gen 9 at bus WORLD NW:\n",
      "Active power: 600.0 (max is 1000.0)\n",
      "Reactive power: 193.03 (max is 9900.0)\n",
      "\n",
      "Gen 3 at bus MAD 138: HIGH LOAD\n",
      "Active power: 2.0 (max is 2.0)\n",
      "Reactive power: -1.0 (max is -1.0)\n",
      "\n"
     ]
    }
   ],
   "source": [
    "# Print the generator dispatch\n",
    "print_gen_dispatch(existing_network)"
   ]
  },
  {
   "cell_type": "code",
   "execution_count": 8,
   "metadata": {},
   "outputs": [
    {
     "name": "stdout",
     "output_type": "stream",
     "text": [
      "Line 24 from PNTBCH 345 to MANTWOC345:\n",
      "Power flow: 629.2726094235874 (max is 1100.0)\n",
      "\n",
      "Line 4 from COL 345 to APPLT 345:\n",
      "Power flow: 46.69886233898721 (max is 1096.0)\n",
      "\n",
      "Line 1 from COL G1 to COL 345:\n",
      "Power flow: 148.26321037654142 (max is 594.0)\n",
      "\n",
      "Line 12 from WAUKSHA138 to MILW 138:\n",
      "Power flow: 20.423103741743653 (max is 208.0)\n",
      "\n",
      "Line 20 from EAUCLRE345 to WASAU 345:\n",
      "Power flow: 451.6411691362447 (max is 1096.0)\n",
      "\n",
      "Line 2 from COL G2 to COL 345:\n",
      "Power flow: 148.66800847359644 (max is 594.0)\n",
      "\n",
      "Line 6 from COL 345 to FOND 345:\n",
      "Power flow: 125.97942328036603 (max is 1096.0)\n",
      "\n",
      "Line 25 from MILW 345 to SHEGAN 345:\n",
      "Power flow: 462.6037062732514 (max is 1096.0)\n",
      "\n",
      "Line 23 from PNTBCH G1 to PNTBCH 345: HIGH LOAD\n",
      "Power flow: 518.2403362975623 (max is 566.0)\n",
      "\n",
      "Line 22 from PNTBCH G1 to PNTBCH 345: HIGH LOAD\n",
      "Power flow: 518.2403362975623 (max is 566.0)\n",
      "\n",
      "Line 11 from MAD 138 to WAUKSHA138:\n",
      "Power flow: 58.125827995551084 (max is 208.0)\n",
      "\n",
      "Line 13 from MILW 345 to MILW 138:\n",
      "Power flow: 422.51968268804444 (max is 500.0)\n",
      "\n",
      "Line 5 from COL 345 to WASAU 345:\n",
      "Power flow: 377.5330189497173 (max is 1096.0)\n",
      "\n",
      "Line 15 from OAKCRK G to MILW 138:\n",
      "Power flow: 150.46363443941493 (max is 345.0)\n",
      "\n",
      "Line 27 from FOND 345 to SHEGAN 345:\n",
      "Power flow: 45.35703577176727 (max is 1096.0)\n",
      "\n",
      "Line 28 from MILW 345 to World SE:\n",
      "Power flow: 615.3873637485269 (max is 1096.0)\n",
      "\n",
      "Line 16 from OAKCRK G to MILW 138:\n",
      "Power flow: 150.46363443941493 (max is 345.0)\n",
      "\n",
      "Line 14 from MILW 345 to MILW 138:\n",
      "Power flow: 422.51968268804444 (max is 500.0)\n",
      "\n",
      "Line 21 from WORLD NW to EAUCLRE345:\n",
      "Power flow: 630.2874662986006 (max is 1096.0)\n",
      "\n",
      "Line 7 from MAD 345 to MAD 138:\n",
      "Power flow: 223.48337967738019 (max is 500.0)\n",
      "\n",
      "Line 8 from MAD 345 to MAD 138:\n",
      "Power flow: 223.48337967738019 (max is 500.0)\n",
      "\n",
      "Line 26 from MANTWOC345 to SHEGAN 345:\n",
      "Power flow: 552.2793903199856 (max is 1096.0)\n",
      "\n",
      "Line 17 from GRNBAY 345 to APPLT 345:\n",
      "Power flow: 36.132019032773805 (max is 1096.0)\n",
      "\n",
      "Line 10 from MAD 138 to WAUKSHA138:\n",
      "Power flow: 58.12630613631957 (max is 208.0)\n",
      "\n",
      "Line 19 from PNTBCH 345 to GRNBAY 345:\n",
      "Power flow: 238.94187644567918 (max is 1096.0)\n",
      "\n",
      "Line 9 from MAD 138 to WCCF CT:\n",
      "Power flow: 154.05482041630268 (max is 208.0)\n",
      "\n",
      "Line 18 from APPLT 345 to PNTBCH 345:\n",
      "Power flow: 165.7552489788205 (max is 1096.0)\n",
      "\n",
      "Line 3 from MAD 345 to COL 345:\n",
      "Power flow: 454.30107719358375 (max is 1096.0)\n",
      "\n"
     ]
    }
   ],
   "source": [
    "# Print the power flows\n",
    "print_power_flows(existing_network)"
   ]
  },
  {
   "cell_type": "code",
   "execution_count": 9,
   "metadata": {},
   "outputs": [
    {
     "name": "stdout",
     "output_type": "stream",
     "text": [
      "Bus 4: Voltage magnitude is 0.9631903089225066\n",
      "Bus 1: Voltage magnitude is 1.0000009\n",
      "Bus 12: Voltage magnitude is 0.9877963708872516\n",
      "Bus 20: Voltage magnitude is 1.0000084\n",
      "Bus 2: Voltage magnitude is 1.0000009\n",
      "Bus 6: Voltage magnitude is 1.0000017\n",
      "Bus 22: Voltage magnitude is 1.0000024\n",
      "Bus 11: Voltage magnitude is 0.9153855064656863\n",
      "Bus 13: Voltage magnitude is 1.0\n",
      "Bus 5: Voltage magnitude is 0.9577732\n",
      "Bus 15: Voltage magnitude is 0.9423436475611763\n",
      "Bus 14: Voltage magnitude is 0.9658293876204316\n",
      "Bus 21: Voltage magnitude is 1.0000005\n",
      "Bus 7: Voltage magnitude is 0.9350008232377396\n",
      "Bus 8: Voltage magnitude is 0.9523838305249419\n",
      "Bus 17: Voltage magnitude is 0.9138377918295238\n",
      "Bus 10: Voltage magnitude is 0.9872622855920642\n",
      "Bus 19: Voltage magnitude is 0.9727071567919264\n",
      "Bus 9: Voltage magnitude is 0.9910784239885471\n",
      "Bus 18: Voltage magnitude is 0.9828893061606219\n",
      "Bus 3: Voltage magnitude is 0.986498720537951\n"
     ]
    }
   ],
   "source": [
    "# Print voltage magnitudes\n",
    "print_voltage_magnitudes(existing_network)"
   ]
  },
  {
   "cell_type": "markdown",
   "metadata": {},
   "source": [
    "### Changing generation setpoints\n",
    "\n",
    "Once the generators and transmission lines are built, the main source of control in the power grid is **how much active power each generator is producing** and **setpoint for the voltage magnitude at their node**. Therefore, we often want to change the active power generation output and voltage magnitude of the generators!\n",
    "\n",
    "\n",
    "#### Changing active power generation\n",
    "In our example, we saw that one of the nuclear generators in Point Beach (Gen 5 at PNTBCH G1) was overloaded. This generator is the so-called slack bus generator which cover the losses in the system. To reduce the loading on this generator, we increase the active power generation at Generator 7 at Oak Creek to 118 MW and reduce the active power generation from Generator 5 at Point Beach to 510 MW. Here is some example code which shows how to change the generator setpoint (notice that we use per unit normalization when setting the values):"
   ]
  },
  {
   "cell_type": "code",
   "execution_count": 10,
   "metadata": {},
   "outputs": [],
   "source": [
    "# Change generation active power setpoints\n",
    "\n",
    "# Set active power generation \"pg\" at generator 7 (Oak Creek) to 118 MW.\n",
    "gen_number = \"7\"    # Number of the generator where you want to change the voltage magnitude, use the quotes!\n",
    "pg = 118            # Active power in MW (we do the per unit normalization below)\n",
    "existing_network[\"gen\"][gen_number][\"pg\"] = pg/existing_network[\"baseMVA\"]\n",
    "\n",
    "# Set active power generation \"pg\" at generator 5 (Point Beach) to 510 MW.\n",
    "gen_number = \"5\"    # Number of the generator where you want to change the voltage magnitude, use the quotes!\n",
    "pg = 510            # Active power in MW (we do the per unit normalization below)\n",
    "existing_network[\"gen\"][gen_number][\"pg\"] = pg/existing_network[\"baseMVA\"];"
   ]
  },
  {
   "cell_type": "markdown",
   "metadata": {},
   "source": [
    "We rerun the power flow and plot the result, then print the generator outputs."
   ]
  },
  {
   "cell_type": "code",
   "execution_count": 11,
   "metadata": {},
   "outputs": [
    {
     "name": "stdout",
     "output_type": "stream",
     "text": [
      "The solver found an AC power flow solution.\n",
      "\u001b[35m[warn | PowerPlots]: Data column \"ComponentType\" does not exist for DC line\u001b[39m\n",
      "Gen 8 at bus OAKCRK G:\n",
      "Active power: 90.0 (max is 314.0)\n",
      "Reactive power: 106.58000000000001 (max is 126.0)\n",
      "\n",
      "Gen 4 at bus WCCF CT: HIGH LOAD\n",
      "Active power: 146.0 (max is 146.0)\n",
      "Reactive power: 49.16 (max is 74.0)\n",
      "\n",
      "Gen 1 at bus COL G1:\n",
      "Active power: 105.0 (max is 525.0)\n",
      "Reactive power: 104.67 (max is 247.00000000000003)\n",
      "\n",
      "Gen 5 at bus PNTBCH G1: HIGH LOAD\n",
      "Active power: 509.99999999999994 (max is 512.0)\n",
      "Reactive power: 74.74 (max is 205.6)\n",
      "\n",
      "Gen 2 at bus COL G2:\n",
      "Active power: 105.0 (max is 525.0)\n",
      "Reactive power: 105.24 (max is 245.00000000000003)\n",
      "\n",
      "OVERLOAD!!!!! Gen 6 at bus PNTBCH G1: OVERLOAD!!!!!\n",
      "Active power: 514.02 (max is 514.0)\n",
      "Reactive power: 71.98 (max is 198.0)\n",
      "\n",
      "Gen 7 at bus OAKCRK G:\n",
      "Active power: 118.0 (max is 298.0)\n",
      "Reactive power: 112.86 (max is 136.0)\n",
      "\n",
      "Gen 10 at bus World SE:\n",
      "Active power: 600.0 (max is 1000.0)\n",
      "Reactive power: 136.7 (max is 9900.0)\n",
      "\n",
      "Gen 9 at bus WORLD NW:\n",
      "Active power: 600.0 (max is 1000.0)\n",
      "Reactive power: 193.03 (max is 9900.0)\n",
      "\n",
      "Gen 3 at bus MAD 138: HIGH LOAD\n",
      "Active power: 2.0 (max is 2.0)\n",
      "Reactive power: -1.0 (max is -1.0)\n",
      "\n"
     ]
    }
   ],
   "source": [
    "# Run a power flow\n",
    "solve_power_flow!(existing_network)\n",
    "\n",
    "# Plot the power flow results (should still look similar!)\n",
    "plot_powerflow(existing_network)\n",
    "\n",
    "# Print the generator dispatch\n",
    "print_gen_dispatch(existing_network)"
   ]
  },
  {
   "cell_type": "markdown",
   "metadata": {},
   "source": [
    "We see that the active power generation at generator 5 in Point Beach is still high, but no longer overloaded! \n",
    "\n",
    "#### Changing voltage magnitudes\n",
    "\n",
    "Let's take a look at the voltage magnitudes as well."
   ]
  },
  {
   "cell_type": "code",
   "execution_count": 12,
   "metadata": {},
   "outputs": [
    {
     "name": "stdout",
     "output_type": "stream",
     "text": [
      "Bus 4: Voltage magnitude is 0.9632066306947623\n",
      "Bus 1: Voltage magnitude is 1.0000009\n",
      "Bus 12: Voltage magnitude is 0.9878898251448306\n",
      "Bus 20: Voltage magnitude is 1.0000084\n",
      "Bus 2: Voltage magnitude is 1.0000009\n",
      "Bus 6: Voltage magnitude is 1.0000017\n",
      "Bus 22: Voltage magnitude is 1.0000024\n",
      "Bus 11: Voltage magnitude is 0.9153980474840815\n",
      "Bus 13: Voltage magnitude is 1.0\n",
      "Bus 5: Voltage magnitude is 0.9577732\n",
      "Bus 15: Voltage magnitude is 0.942552000358104\n",
      "Bus 14: Voltage magnitude is 0.9660232524759317\n",
      "Bus 21: Voltage magnitude is 1.0000005\n",
      "Bus 7: Voltage magnitude is 0.9351444355756714\n",
      "Bus 8: Voltage magnitude is 0.95254197470534\n",
      "Bus 17: Voltage magnitude is 0.9138602711417149\n",
      "Bus 10: Voltage magnitude is 0.9873545356492844\n",
      "Bus 19: Voltage magnitude is 0.9728375655852296\n",
      "Bus 9: Voltage magnitude is 0.9911631171504054\n",
      "Bus 18: Voltage magnitude is 0.9830081469407126\n",
      "Bus 3: Voltage magnitude is 0.986524351724391\n"
     ]
    }
   ],
   "source": [
    "# Print voltage magnitudes\n",
    "print_voltage_magnitudes(existing_network)"
   ]
  },
  {
   "cell_type": "markdown",
   "metadata": {},
   "source": [
    "We see that several of the voltage magnitudes in the existing system are below 0.95, and partcularly the voltage at bus 11 is quite low. In your future system design, you want to make sure that the voltage magnitudes are between 0.95 and 1.05 pu. \n",
    "\n",
    "The Colombia generators are the closest to bus 11, and their voltage magnitudes are currently set to 1. We try to increase their voltage magnitude setpoints to 1.05 pu. **Note:** We change the setpoints of both the generators since they are connected at a similar location. "
   ]
  },
  {
   "cell_type": "code",
   "execution_count": 13,
   "metadata": {},
   "outputs": [],
   "source": [
    "# Change generation voltage magnitude\n",
    "# We change both the generator specified voltage magnitude and the specified PV bus magnitude to ensure that the results are consistent\n",
    "\n",
    "# Set voltage mangitude \"vm\" at generator 1 (Columbia 1) 1.05 pu.\n",
    "gen_number = \"1\"    # Number of the generator where you want to change the voltage magnitude, use the quotes!\n",
    "target_volt = 1.05  # Voltage in per unit\n",
    "\n",
    "# Code to do the update\n",
    "existing_network[\"gen\"][gen_number][\"vg\"] = target_volt\n",
    "existing_network[\"bus\"][string(existing_network[\"gen\"][gen_number][\"gen_bus\"])][\"vm\"] = existing_network[\"gen\"][gen_number][\"vg\"];\n",
    "\n",
    "\n",
    "# Set voltage mangitude \"vm\" at generator 1 (Columbia 1) 1.05 pu.\n",
    "gen_number = \"2\"    # Number of the generator where you want to change the voltage magnitude, use the quotes!\n",
    "target_volt = 1.05  # Voltage in per unit\n",
    "\n",
    "# Code to do the update\n",
    "existing_network[\"gen\"][gen_number][\"vg\"] = target_volt\n",
    "existing_network[\"bus\"][string(existing_network[\"gen\"][gen_number][\"gen_bus\"])][\"vm\"] = existing_network[\"gen\"][gen_number][\"vg\"];"
   ]
  },
  {
   "cell_type": "markdown",
   "metadata": {},
   "source": [
    "We rerun the power flow, then plot and print the results."
   ]
  },
  {
   "cell_type": "code",
   "execution_count": 14,
   "metadata": {},
   "outputs": [
    {
     "name": "stdout",
     "output_type": "stream",
     "text": [
      "The solver found an AC power flow solution.\n",
      "\u001b[35m[warn | PowerPlots]: Data column \"ComponentType\" does not exist for DC line\u001b[39m\n",
      "Gen 8 at bus OAKCRK G:\n",
      "Active power: 90.0 (max is 314.0)\n",
      "Reactive power: 106.58000000000001 (max is 126.0)\n",
      "\n",
      "Gen 4 at bus WCCF CT: HIGH LOAD\n",
      "Active power: 146.0 (max is 146.0)\n",
      "Reactive power: 49.16 (max is 74.0)\n",
      "\n",
      "Gen 1 at bus COL G1:\n",
      "Active power: 105.0 (max is 525.0)\n",
      "Reactive power: 104.67 (max is 247.00000000000003)\n",
      "\n",
      "Gen 5 at bus PNTBCH G1: HIGH LOAD\n",
      "Active power: 509.99999999999994 (max is 512.0)\n",
      "Reactive power: 74.74 (max is 205.6)\n",
      "\n",
      "Gen 2 at bus COL G2:\n",
      "Active power: 105.0 (max is 525.0)\n",
      "Reactive power: 105.24 (max is 245.00000000000003)\n",
      "\n",
      "OVERLOAD!!!!! Gen 6 at bus PNTBCH G1: OVERLOAD!!!!!\n",
      "Active power: 514.02 (max is 514.0)\n",
      "Reactive power: 71.98 (max is 198.0)\n",
      "\n",
      "Gen 7 at bus OAKCRK G:\n",
      "Active power: 118.0 (max is 298.0)\n",
      "Reactive power: 112.86 (max is 136.0)\n",
      "\n",
      "Gen 10 at bus World SE:\n",
      "Active power: 600.0 (max is 1000.0)\n",
      "Reactive power: 136.7 (max is 9900.0)\n",
      "\n",
      "Gen 9 at bus WORLD NW:\n",
      "Active power: 600.0 (max is 1000.0)\n",
      "Reactive power: 193.03 (max is 9900.0)\n",
      "\n",
      "Gen 3 at bus MAD 138: HIGH LOAD\n",
      "Active power: 2.0 (max is 2.0)\n",
      "Reactive power: -1.0 (max is -1.0)\n",
      "\n",
      "Bus 4: Voltage magnitude is 0.9762622293635997\n",
      "Bus 1: Voltage magnitude is 1.05\n",
      "Bus 12: Voltage magnitude is 0.9954561506026086\n",
      "Bus 20: Voltage magnitude is 1.0000084\n",
      "Bus 2: Voltage magnitude is 1.05\n",
      "Bus 6: Voltage magnitude is 1.0000017\n",
      "Bus 22: Voltage magnitude is 1.0000024\n",
      "Bus 11: Voltage magnitude is 0.9338032675426897\n",
      "Bus 13: Voltage magnitude is 1.0\n",
      "Bus 5: Voltage magnitude is 0.9577732\n",
      "Bus 15: Voltage magnitude is 0.9483887712000567\n",
      "Bus 14: Voltage magnitude is 0.9795220050047524\n",
      "Bus 21: Voltage magnitude is 1.0000005\n",
      "Bus 7: Voltage magnitude is 0.9377161930904054\n",
      "Bus 8: Voltage magnitude is 0.9564450811237359\n",
      "Bus 17: Voltage magnitude is 0.9470978565162048\n",
      "Bus 10: Voltage magnitude is 1.0001825782328146\n",
      "Bus 19: Voltage magnitude is 0.9963734141400044\n",
      "Bus 9: Voltage magnitude is 1.0077348506878954\n",
      "Bus 18: Voltage magnitude is 0.9916180852537492\n",
      "Bus 3: Voltage magnitude is 1.02512579867074\n"
     ]
    }
   ],
   "source": [
    "# Run a power flow\n",
    "solve_power_flow!(existing_network)\n",
    "\n",
    "# Plot the power flow results (should still look similar!)\n",
    "plot_powerflow(existing_network)\n",
    "\n",
    "# Print the generator dispatch\n",
    "print_gen_dispatch(existing_network)\n",
    "\n",
    "# Print voltage magnitudes\n",
    "print_voltage_magnitudes(existing_network)"
   ]
  },
  {
   "cell_type": "markdown",
   "metadata": {},
   "source": [
    "Another aspect of the system we can analyze is the total load and the total generation. This is helpful for two reasons:\n",
    "1. Sometimes, the AC power flow does not converge (as we will discuss in class). To check if our solutions make sense, we can check if the total load and the total generation are approximately the same. \n",
    "2. Generally, we expect the total generation to be a little higher than the total load, because the network has losses. The total losses in the system is the difference between the total active power generation and the total active load."
   ]
  },
  {
   "cell_type": "code",
   "execution_count": 15,
   "metadata": {},
   "outputs": [
    {
     "name": "stdout",
     "output_type": "stream",
     "text": [
      "Total load = 2712.16 MW, total generation = 2790.02 MW and total losses = -77.86000000000013 MW \n"
     ]
    }
   ],
   "source": [
    "# Compute the total load, generation and losses\n",
    "\n",
    "total_load = 0.0\n",
    "for i in keys(existing_network[\"load\"]) \n",
    "    total_load=total_load+existing_network[\"load\"][i][\"pd\"]*existing_network[\"baseMVA\"]\n",
    "end\n",
    "\n",
    "total_gen = 0.0\n",
    "for i in keys(existing_network[\"gen\"]) \n",
    "    total_gen=total_gen+existing_network[\"gen\"][i][\"pg\"]*existing_network[\"baseMVA\"]\n",
    "end\n",
    "\n",
    "println(\"Total load = $total_load MW, total generation = $total_gen MW and total losses = $(total_load-total_gen) MW \")"
   ]
  },
  {
   "cell_type": "markdown",
   "metadata": {},
   "source": [
    "### Loading the data for the future Wisconsin grid\n",
    "\n",
    "In the second network file \"Wisconsin_Proposed.m\", we have removed the coal generators at Columbia and Oak Creek. To give you a starting solution, we have increased the import of power from the World NW and the World SE by approximately 200 MW. \n",
    "\n",
    "Note: Before running the code, make sure to keep this network file in the same directory as the notebook!"
   ]
  },
  {
   "cell_type": "code",
   "execution_count": 16,
   "metadata": {},
   "outputs": [],
   "source": [
    "# Load the Wisconsin data file\n",
    "proposed_network = PowerModels.parse_file(\"Wisconsin_Proposed.m\");\n",
    "\n",
    "\n"
   ]
  },
  {
   "cell_type": "code",
   "execution_count": 17,
   "metadata": {},
   "outputs": [
    {
     "data": {
      "text/plain": [
       "Dict{String, Any} with 34 entries:\n",
       "  \"ncost\"     => 3\n",
       "  \"qc1max\"    => 0.0\n",
       "  \"pg\"        => 8.1\n",
       "  \"model\"     => 2\n",
       "  \"shutdown\"  => 0.0\n",
       "  \"xcoord_1\"  => -93.636\n",
       "  \"startup\"   => 0.0\n",
       "  \"qc2max\"    => 0.0\n",
       "  \"ramp_agc\"  => 0.0\n",
       "  \"qg\"        => 1.9303\n",
       "  \"gen_bus\"   => 21\n",
       "  \"pmax\"      => 10.0\n",
       "  \"ramp_10\"   => 0.0\n",
       "  \"vg\"        => 1.0\n",
       "  \"mbase\"     => 100.0\n",
       "  \"source_id\" => Any[\"gen\", 4]\n",
       "  \"mu_pmax\"   => 0.0\n",
       "  \"pc2\"       => 0.0\n",
       "  \"mu_pmin\"   => 0.0\n",
       "  \"index\"     => 4\n",
       "  ⋮           => ⋮"
      ]
     },
     "execution_count": 17,
     "metadata": {},
     "output_type": "execute_result"
    }
   ],
   "source": [
    "proposed_network[\"gen\"][\"4\"]"
   ]
  },
  {
   "cell_type": "markdown",
   "metadata": {},
   "source": [
    "Below, we plot the network for the new system. You can see where the generators were removed."
   ]
  },
  {
   "cell_type": "code",
   "execution_count": 18,
   "metadata": {},
   "outputs": [
    {
     "name": "stdout",
     "output_type": "stream",
     "text": [
      "\u001b[35m[warn | PowerPlots]: Data column \"ComponentType\" does not exist for DC line\u001b[39m\n"
     ]
    },
    {
     "data": {
      "text/plain": [
       "Electron.Window(Application(Base.PipeEndpoint(Base.Libc.WindowsRawSocket(0x0000000000000414) open, 0 bytes waiting), Process(`\u001b[4m'C:\\Users\\Gokhan\\.julia\\artifacts\\ca0342e0bab6657b29b8c9153ccf8b6983ee0670\\electron.exe'\u001b[24m \u001b[4m'C:\\Users\\Gokhan\\.julia\\packages\\Electron\\ILvWR\\src\\main.js'\u001b[24m \u001b[4m'\\\\.\\pipe\\jlel-15b7ada0588011ec2cdd5748ea514422'\u001b[24m \u001b[4m'\\\\.\\pipe\\jlel-sn-15b7ada0588011ec3c9acb3d1f05a3dc'\u001b[24m \u001b[4mlyqjozOtBF8DGbPDqe7jNKvgLvgjiEMsIytsD1PTb3jL/o8b1FNxlPnvVINer9d23cZP/dGJG/e9b8+ROqxwD2cAIKQdhaAOrQAmbWO+10BsA+Uxer18MsujdqyH9Flc4dkkY2N1TmQNWN3wVvfbH4zh5zINMD1eQeBMeh54In4=\u001b[24m`, ProcessRunning), [1 window]), 1, true, Channel{Any}(128))"
      ]
     },
     "execution_count": 18,
     "metadata": {},
     "output_type": "execute_result"
    }
   ],
   "source": [
    "# Plot the power flow results\n",
    "plot_powerflow(proposed_network)"
   ]
  },
  {
   "cell_type": "markdown",
   "metadata": {},
   "source": [
    "We will try to run a power flow for this new network and plot the power flow solution."
   ]
  },
  {
   "cell_type": "code",
   "execution_count": 19,
   "metadata": {},
   "outputs": [
    {
     "name": "stdout",
     "output_type": "stream",
     "text": [
      "WARNING! The solver did not find an AC power flow solution! The values of the power flow variables in the network are not a power flow solution.\n",
      "\u001b[35m[warn | PowerModels]: ac power flow solver convergence failed!  use `show_trace = true` for more details\u001b[39m\n",
      "\u001b[35m[warn | PowerModels]: ac power flow solver convergence failed!  use `show_trace = true` for more details\u001b[39m\n",
      "\u001b[35m[warn | PowerPlots]: Data column \"ComponentType\" does not exist for DC line\u001b[39m\n"
     ]
    },
    {
     "data": {
      "text/plain": [
       "Electron.Window(Application(Base.PipeEndpoint(Base.Libc.WindowsRawSocket(0x0000000000000414) open, 0 bytes waiting), Process(`\u001b[4m'C:\\Users\\Gokhan\\.julia\\artifacts\\ca0342e0bab6657b29b8c9153ccf8b6983ee0670\\electron.exe'\u001b[24m \u001b[4m'C:\\Users\\Gokhan\\.julia\\packages\\Electron\\ILvWR\\src\\main.js'\u001b[24m \u001b[4m'\\\\.\\pipe\\jlel-15b7ada0588011ec2cdd5748ea514422'\u001b[24m \u001b[4m'\\\\.\\pipe\\jlel-sn-15b7ada0588011ec3c9acb3d1f05a3dc'\u001b[24m \u001b[4mlyqjozOtBF8DGbPDqe7jNKvgLvgjiEMsIytsD1PTb3jL/o8b1FNxlPnvVINer9d23cZP/dGJG/e9b8+ROqxwD2cAIKQdhaAOrQAmbWO+10BsA+Uxer18MsujdqyH9Flc4dkkY2N1TmQNWN3wVvfbH4zh5zINMD1eQeBMeh54In4=\u001b[24m`, ProcessRunning), [1 window]), 1, true, Channel{Any}(128))"
      ]
     },
     "execution_count": 19,
     "metadata": {},
     "output_type": "execute_result"
    }
   ],
   "source": [
    "# Run a power flow\n",
    "solve_power_flow!(proposed_network)\n",
    "\n",
    "# Plot the power flow results\n",
    "plot_powerflow(proposed_network)"
   ]
  },
  {
   "cell_type": "markdown",
   "metadata": {},
   "source": [
    "What we see here is that the power flow does not converge! There is no solution to the power flow if you replace the coal generation by these imports! In order to obtain a feasible solution where the power flow converge, you will have to add more generation/transmission."
   ]
  },
  {
   "cell_type": "markdown",
   "metadata": {},
   "source": [
    "### Adding generators and transmission lines\n",
    "\n",
    "From here, the design process is all yours! You need to add your proposed generators and transmission lines, choose the generator setpoints and make sure that the resulting power flow is feasible.  You can reuse the functions above, \n",
    "\n",
    "The functions for adding generators and lines will be discussed in the office hour/discussion section on Monday, Nov 22."
   ]
  },
  {
   "cell_type": "markdown",
   "metadata": {},
   "source": [
    "#### Adding a transmission line\n",
    "As an example, we add a 345kV transmission line from Green Bay (bus 10) to Wausau (bus 17). We use the `add_branch!` function. We need to specify the bus numbers, the Pi model parameters (the series resistance `br_r` and reactance `br_x` and shunt susceptance `shunt_b`), the thermal limit `rate_a`, the angle limits `angmin` and `angmax`, and whether or not the branch is a transformer, as follows:"
   ]
  },
  {
   "cell_type": "code",
   "execution_count": 20,
   "metadata": {},
   "outputs": [
    {
     "name": "stdout",
     "output_type": "stream",
     "text": [
      "Added a branch with index 29 from bus 10 to 17.\n"
     ]
    }
   ],
   "source": [
    "# Where the line will be inserted\n",
    "f_bus = 10       # From bus (node where the line will start)\n",
    "t_bus = 17       # To bus (node where the line will end)\n",
    "\n",
    "# Parameters of the line (choose similar parameters as existing lines)\n",
    "br_r = 0.006     # Branch resistance (in per unit)\n",
    "br_x = 0.07      # Branch inductance (in per unit)\n",
    "shunt_b = 0.7    # Branch shunt admittance (in per unit)\n",
    "\n",
    "# Line limits (thermal and angle difference limits)\n",
    "rate_a = 200.0/proposed_network[\"baseMVA\"]   # Power rating of the line\n",
    "angmin = 60.0*pi/180    # Minimum angle difference (set to 60 degrees)\n",
    "angmax = 60.0*pi/180    # Maximum angle difference (set to 60 degrees)\n",
    "\n",
    "# Flag to indicate whether we have a transformer\n",
    "transformer = false     # False: This is a not a transformer, True: This is a transformer\n",
    "\n",
    "# Code to add the branch to the network\n",
    "add_branch!(\n",
    "        proposed_network,\n",
    "        f_bus, t_bus,\n",
    "        br_r, br_x,\n",
    "        shunt_b,\n",
    "        rate_a,\n",
    "        angmin, angmax,\n",
    "        transformer\n",
    "    )"
   ]
  },
  {
   "cell_type": "code",
   "execution_count": 21,
   "metadata": {},
   "outputs": [
    {
     "name": "stdout",
     "output_type": "stream",
     "text": [
      "\u001b[35m[warn | PowerPlots]: Data column \"ComponentType\" does not exist for DC line\u001b[39m\n"
     ]
    },
    {
     "data": {
      "text/plain": [
       "Electron.Window(Application(Base.PipeEndpoint(Base.Libc.WindowsRawSocket(0x0000000000000414) open, 0 bytes waiting), Process(`\u001b[4m'C:\\Users\\Gokhan\\.julia\\artifacts\\ca0342e0bab6657b29b8c9153ccf8b6983ee0670\\electron.exe'\u001b[24m \u001b[4m'C:\\Users\\Gokhan\\.julia\\packages\\Electron\\ILvWR\\src\\main.js'\u001b[24m \u001b[4m'\\\\.\\pipe\\jlel-15b7ada0588011ec2cdd5748ea514422'\u001b[24m \u001b[4m'\\\\.\\pipe\\jlel-sn-15b7ada0588011ec3c9acb3d1f05a3dc'\u001b[24m \u001b[4mlyqjozOtBF8DGbPDqe7jNKvgLvgjiEMsIytsD1PTb3jL/o8b1FNxlPnvVINer9d23cZP/dGJG/e9b8+ROqxwD2cAIKQdhaAOrQAmbWO+10BsA+Uxer18MsujdqyH9Flc4dkkY2N1TmQNWN3wVvfbH4zh5zINMD1eQeBMeh54In4=\u001b[24m`, ProcessRunning), [1 window]), 1, true, Channel{Any}(128))"
      ]
     },
     "execution_count": 21,
     "metadata": {},
     "output_type": "execute_result"
    }
   ],
   "source": [
    "# Plot the power flow results\n",
    "plot_powerflow(proposed_network)"
   ]
  },
  {
   "cell_type": "markdown",
   "metadata": {},
   "source": [
    "#### Adding a bus\n",
    "\n",
    "We want to add a 41.6kV bus at Wausau to connect to new generation. We need to specify the `bus_type`: (1: PQ, 2: PV, or 3: Slack), the base voltage in kV, the minimum and maximum voltage magnitude, and the latitude and longitude:"
   ]
  },
  {
   "cell_type": "code",
   "execution_count": 22,
   "metadata": {},
   "outputs": [
    {
     "name": "stdout",
     "output_type": "stream",
     "text": [
      "Added a bus with index 23.\n"
     ]
    },
    {
     "data": {
      "text/plain": [
       "23"
      ]
     },
     "execution_count": 22,
     "metadata": {},
     "output_type": "execute_result"
    }
   ],
   "source": [
    "# Add a 41.6kV bus\n",
    "bus_type = 2      # Type of bus (1: PQ bus, 2: PV bus, 3: Reference bus)\n",
    "vbase_kv = 41.6   # Base voltage of the bus (for per unit normalization)\n",
    "vmin = 0.95       # Maximum voltage in per unit\n",
    "vmax = 1.05       # Minimum voltage in per unit\n",
    "vm = 1.01         # Initial voltage magnitude setpoint\n",
    "\n",
    "# Geographical coordinates of the bus\n",
    "ycoord = 45.146   \n",
    "xcoord = -89.637\n",
    "\n",
    "new_bus = add_bus!(\n",
    "    proposed_network,\n",
    "    bus_type,\n",
    "    vbase_kv,\n",
    "    vmin,\n",
    "    vmax,\n",
    "    xcoord,\n",
    "    ycoord,\n",
    "    bus_name=\"WAUSAU 41.6\", # also adding a name to the bus!\n",
    "    vm=vm\n",
    "    )"
   ]
  },
  {
   "cell_type": "markdown",
   "metadata": {},
   "source": [
    "#### Adding a generator\n",
    "Now we add a generator at this new bus, specifying the active power setpoint `pg` and the limits on reative and active power, `qmax`, `qmin`, `pmax`, and `pmin`. We also give the optional coordinate arguments to place the generator on the map."
   ]
  },
  {
   "cell_type": "code",
   "execution_count": 23,
   "metadata": {
    "scrolled": true
   },
   "outputs": [
    {
     "name": "stdout",
     "output_type": "stream",
     "text": [
      "Added a generator with index 6 at bus 23.\n"
     ]
    }
   ],
   "source": [
    "# Add a single generator\n",
    "gen_bus = new_bus                              # Node where the generator should be added\n",
    "pg = 100.0/proposed_network[\"baseMVA\"]         # Active power generation\n",
    "pmax = 100.0/proposed_network[\"baseMVA\"]       # Maximum active power generation\n",
    "pmin = 0.0/proposed_network[\"baseMVA\"]         # Minimum active power generation\n",
    "qmax = 50.0/proposed_network[\"baseMVA\"]        # Maximum reactive power generation\n",
    "qmin = -50.0/proposed_network[\"baseMVA\"]       # Minimum reactive power generation\n",
    "\n",
    "add_gen!(\n",
    "        proposed_network,\n",
    "        gen_bus,\n",
    "        pg,\n",
    "        qmax, qmin,\n",
    "        pmax, pmin,\n",
    "        ycoord=45.346,\n",
    "        xcoord=-89.637\n",
    ")"
   ]
  },
  {
   "cell_type": "markdown",
   "metadata": {},
   "source": [
    "#### Adding a transformer\n",
    "We use the `add_branch!` function again to add a transformer between the 345 and 41.6 kV buses in Wausau. We simply set the `transformer` variable to true and adjust the parameters accordingly."
   ]
  },
  {
   "cell_type": "code",
   "execution_count": 24,
   "metadata": {},
   "outputs": [
    {
     "name": "stdout",
     "output_type": "stream",
     "text": [
      "Added a branch with index 30 from bus 23 to 17.\n"
     ]
    }
   ],
   "source": [
    "# Add the transformer to connect the 22kV and 345kV buses\n",
    "f_bus = new_bus\n",
    "t_bus = 17\n",
    "br_r = 0.0003\n",
    "br_x = 0.01\n",
    "shunt_b = 0.0\n",
    "rate_a = 100.0/proposed_network[\"baseMVA\"]\n",
    "angmin = 60.0*pi/180\n",
    "angmax = 60.0*pi/180\n",
    "transformer = true\n",
    "\n",
    "add_branch!(\n",
    "        proposed_network,\n",
    "        f_bus, t_bus,\n",
    "        br_r, br_x,\n",
    "        shunt_b,\n",
    "        rate_a,\n",
    "        angmin, angmax,\n",
    "        transformer\n",
    "    )"
   ]
  },
  {
   "cell_type": "markdown",
   "metadata": {},
   "source": [
    "Now we try solving the power flow again."
   ]
  },
  {
   "cell_type": "code",
   "execution_count": 25,
   "metadata": {},
   "outputs": [
    {
     "name": "stdout",
     "output_type": "stream",
     "text": [
      "WARNING! The solver did not find an AC power flow solution! The values of the power flow variables in the network are not a power flow solution.\n",
      "\u001b[35m[warn | PowerModels]: ac power flow solver convergence failed!  use `show_trace = true` for more details\u001b[39m\n",
      "\u001b[35m[warn | PowerModels]: ac power flow solver convergence failed!  use `show_trace = true` for more details\u001b[39m\n",
      "\u001b[35m[warn | PowerPlots]: Data column \"ComponentType\" does not exist for DC line\u001b[39m\n",
      "Total load = 2712.16 MW, total generation = 2743.04 MW and total losses = -30.88000000000011 MW \n"
     ]
    }
   ],
   "source": [
    "# Run a power flow\n",
    "solve_power_flow!(proposed_network)\n",
    "\n",
    "# Plot the power flow results\n",
    "plot_powerflow(proposed_network)\n",
    "\n",
    "# Compute the total load, generation and losses\n",
    "total_load = 0.0\n",
    "for i in keys(proposed_network[\"load\"]) \n",
    "    total_load=total_load+proposed_network[\"load\"][i][\"pd\"]*proposed_network[\"baseMVA\"]\n",
    "end\n",
    "\n",
    "total_gen = 0.0\n",
    "for i in keys(proposed_network[\"gen\"]) \n",
    "    total_gen=total_gen+proposed_network[\"gen\"][i][\"pg\"]*proposed_network[\"baseMVA\"]\n",
    "end\n",
    "\n",
    "println(\"Total load = $total_load MW, total generation = $total_gen MW and total losses = $(total_load-total_gen) MW \")"
   ]
  },
  {
   "cell_type": "markdown",
   "metadata": {},
   "source": [
    "We see the changes applied on the map, but the solver still didn't converge to a power flow solution. We need your help!\n",
    "\n",
    "Some hints to finding a good power flow solution:\n",
    "- Remember to approximately match the total load and the total generation in the network when you start out. If you don't do this, the slack bus (at Point Beach) will make up for the difference, but it is better to not rely too much o this.\n",
    "- Check which lines have large power flows and large voltage drops. Consider changing the generation or install new generators to reduce the power flows (i.e., move generation closer to the load).\n",
    "- If you have low voltages at a node, it also helps to increase the reactive power generation near that node!"
   ]
  },
  {
   "cell_type": "markdown",
   "metadata": {},
   "source": [
    "## 4. Modifications by MegaLine!\n",
    "\n",
    "\n",
    "\n"
   ]
  },
  {
   "cell_type": "markdown",
   "metadata": {},
   "source": [
    "#### Scale the active and reactive power of the load by a scale factor\n",
    "Here, we scaled the active and reactive power of the loads by a scale factor by considering the estimated consumption in the future of Wisconsin."
   ]
  },
  {
   "cell_type": "code",
   "execution_count": 26,
   "metadata": {},
   "outputs": [
    {
     "name": "stdout",
     "output_type": "stream",
     "text": [
      "Total load active power = 2712.16 MW, Total load reactive power = 832.2900000000001 MVAR, \n"
     ]
    }
   ],
   "source": [
    "# Check total load active and reactive power BEFORE scaling\n",
    "\n",
    "\n",
    "# Compute the total load active and reactive power \n",
    "total_p_load = 0.0\n",
    "for i in keys(proposed_network[\"load\"]) \n",
    "    total_p_load=total_p_load+proposed_network[\"load\"][i][\"pd\"]*proposed_network[\"baseMVA\"]\n",
    "end\n",
    "\n",
    "total_q_load = 0.0\n",
    "for i in keys(proposed_network[\"load\"]) \n",
    "    total_q_load=total_q_load+proposed_network[\"load\"][i][\"qd\"]*proposed_network[\"baseMVA\"]\n",
    "end\n",
    "\n",
    "println(\"Total load active power = $total_p_load MW, Total load reactive power = $total_q_load MVAR, \")"
   ]
  },
  {
   "cell_type": "code",
   "execution_count": 27,
   "metadata": {},
   "outputs": [
    {
     "name": "stdout",
     "output_type": "stream",
     "text": [
      "Scaled load number Any[\"4\", \"1\", \"12\", \"2\", \"6\", \"11\", \"5\", \"7\", \"8\", \"10\", \"9\", \"3\"], connected at bus(es) Any[8, 3, 19, 5, 10, 18, 9, 11, 14, 17, 15, 7], by the scaling factor 1.02.\n"
     ]
    }
   ],
   "source": [
    "# Change the Active and Reactive Power at each bus by a scale factor\n",
    "\n",
    "k_scale = 1.02    # scale ratio for active and reactive power on loads\n",
    "\n",
    "scale_loads!(proposed_network, k_scale)"
   ]
  },
  {
   "cell_type": "code",
   "execution_count": 28,
   "metadata": {},
   "outputs": [
    {
     "name": "stdout",
     "output_type": "stream",
     "text": [
      "Total load active power = 2766.4031999999997 MW, Total load reactive power = 848.9358 MVAR, \n"
     ]
    }
   ],
   "source": [
    "# Check total load active and reactive power AFTER scaling\n",
    "\n",
    "\n",
    "# Compute the total load active and reactive power \n",
    "total_p_load = 0.0\n",
    "for i in keys(proposed_network[\"load\"]) \n",
    "    total_p_load=total_p_load+proposed_network[\"load\"][i][\"pd\"]*proposed_network[\"baseMVA\"]\n",
    "end\n",
    "\n",
    "total_q_load = 0.0\n",
    "for i in keys(proposed_network[\"load\"]) \n",
    "    total_q_load=total_q_load+proposed_network[\"load\"][i][\"qd\"]*proposed_network[\"baseMVA\"]\n",
    "end\n",
    "\n",
    "println(\"Total load active power = $total_p_load MW, Total load reactive power = $total_q_load MVAR, \")"
   ]
  },
  {
   "cell_type": "code",
   "execution_count": 29,
   "metadata": {
    "scrolled": true
   },
   "outputs": [
    {
     "data": {
      "text/plain": [
       "483.48"
      ]
     },
     "execution_count": 29,
     "metadata": {},
     "output_type": "execute_result"
    }
   ],
   "source": [
    "proposed_network[\"load\"][\"2\"][\"pd\"]*proposed_network[\"baseMVA\"]"
   ]
  },
  {
   "cell_type": "code",
   "execution_count": 30,
   "metadata": {
    "scrolled": true
   },
   "outputs": [
    {
     "data": {
      "text/plain": [
       "153.40800000000002"
      ]
     },
     "execution_count": 30,
     "metadata": {},
     "output_type": "execute_result"
    }
   ],
   "source": [
    "proposed_network[\"load\"][\"2\"][\"qd\"]*proposed_network[\"baseMVA\"]"
   ]
  },
  {
   "cell_type": "code",
   "execution_count": 31,
   "metadata": {
    "scrolled": false
   },
   "outputs": [
    {
     "data": {
      "text/plain": [
       "Dict{String, Any} with 34 entries:\n",
       "  \"ncost\"     => 3\n",
       "  \"qc1max\"    => 0.0\n",
       "  \"pg\"        => 5.1202\n",
       "  \"model\"     => 2\n",
       "  \"shutdown\"  => 0.0\n",
       "  \"xcoord_1\"  => -86.357\n",
       "  \"startup\"   => 0.0\n",
       "  \"qc2max\"    => 0.0\n",
       "  \"ramp_agc\"  => 0.0\n",
       "  \"qg\"        => 0.7474\n",
       "  \"gen_bus\"   => 13\n",
       "  \"pmax\"      => 5.12\n",
       "  \"ramp_10\"   => 0.0\n",
       "  \"vg\"        => 1.0\n",
       "  \"mbase\"     => 100.0\n",
       "  \"source_id\" => Any[\"gen\", 2]\n",
       "  \"mu_pmax\"   => 0.0\n",
       "  \"pc2\"       => 0.0\n",
       "  \"mu_pmin\"   => 0.0\n",
       "  \"index\"     => 2\n",
       "  ⋮           => ⋮"
      ]
     },
     "execution_count": 31,
     "metadata": {},
     "output_type": "execute_result"
    }
   ],
   "source": [
    "proposed_network[\"gen\"][\"2\"]"
   ]
  },
  {
   "cell_type": "code",
   "execution_count": 32,
   "metadata": {
    "scrolled": true
   },
   "outputs": [
    {
     "name": "stdout",
     "output_type": "stream",
     "text": [
      "Dict{String, Any}(\"ncost\" => 3, \"qc1max\" => 0.0, \"pg\" => 5.1202, \"model\" => 2, \"shutdown\" => 0.0, \"xcoord_1\" => -86.357, \"startup\" => 0.0, \"qc2max\" => 0.0, \"ramp_agc\" => 0.0, \"qg\" => 0.7474, \"gen_bus\" => 13, \"pmax\" => 5.12, \"ramp_10\" => 0.0, \"vg\" => 1.0, \"mbase\" => 100.0, \"source_id\" => Any[\"gen\", 2], \"mu_pmax\" => 0.0, \"pc2\" => 0.0, \"mu_pmin\" => 0.0, \"index\" => 2, \"cost\" => [100.0, 1000.0, 100.0], \"qmax\" => 2.056, \"gen_status\" => 1, \"qmin\" => 0.0, \"qc1min\" => 0.0, \"qc2min\" => 0.0, \"pc1\" => 0.0, \"ramp_q\" => 0.0, \"mu_qmax\" => 0.0, \"ramp_30\" => 0.0, \"mu_qmin\" => 0.0, \"ycoord_1\" => 45.345, \"pmin\" => 1.5, \"apf\" => 10.0)"
     ]
    }
   ],
   "source": [
    "print(proposed_network[\"gen\"][\"2\"])\n",
    "        "
   ]
  },
  {
   "cell_type": "markdown",
   "metadata": {},
   "source": [
    "#### Retirement of Natural Gas Generation Plant\n",
    "\n",
    "Natural gas plant (MAD 345) is removed from the grid to more rely on renewables in the future grid of Wisconsin. For retirement of this plant, related data is removed from MATLAB file with name \"Wisconsin_Proposed\""
   ]
  },
  {
   "cell_type": "markdown",
   "metadata": {},
   "source": [
    "#### Adding Solar Plant to the Grid\n",
    "\n",
    "We will add solar plant named \"O'Brien Solar\" in Fitchburg, WI"
   ]
  },
  {
   "cell_type": "code",
   "execution_count": 33,
   "metadata": {},
   "outputs": [
    {
     "name": "stdout",
     "output_type": "stream",
     "text": [
      "Added a bus with index 24.\n"
     ]
    },
    {
     "data": {
      "text/plain": [
       "24"
      ]
     },
     "execution_count": 33,
     "metadata": {},
     "output_type": "execute_result"
    }
   ],
   "source": [
    "# Add a 13.8 kV bus for O'Brien Solar Plant\n",
    "bus_type = 2      # Type of bus (1: PQ bus, 2: PV bus, 3: Reference bus)\n",
    "vbase_kv = 13.8   # Base voltage of the bus (for per unit normalization)\n",
    "vmin = 0.95       # Maximum voltage in per unit\n",
    "vmax = 1.05       # Minimum voltage in per unit\n",
    "vm = 1.00         # Initial voltage magnitude setpoint\n",
    "\n",
    "# Geographical coordinates of the bus\n",
    "ycoord = 42.842   \n",
    "xcoord = -88.624\n",
    "\n",
    "new_bus_OB = add_bus!(\n",
    "    proposed_network,\n",
    "    bus_type,\n",
    "    vbase_kv,\n",
    "    vmin,\n",
    "    vmax,\n",
    "    xcoord,\n",
    "    ycoord,\n",
    "    bus_name=\"OB SOLAR\", # also adding a name to the bus!\n",
    "    vm=vm\n",
    "    )"
   ]
  },
  {
   "cell_type": "code",
   "execution_count": 34,
   "metadata": {},
   "outputs": [
    {
     "name": "stdout",
     "output_type": "stream",
     "text": [
      "Added a generator with index 7 at bus 24.\n"
     ]
    }
   ],
   "source": [
    "# Add a single generator\n",
    "gen_bus = new_bus_OB                              # Node where the generator should be added\n",
    "pg = 20/proposed_network[\"baseMVA\"]         # Active power generation\n",
    "pmax = 24.13/proposed_network[\"baseMVA\"]       # Maximum active power generation\n",
    "pmin = 0.0/proposed_network[\"baseMVA\"]         # Minimum active power generation\n",
    "qmax = 10.0/proposed_network[\"baseMVA\"]        # Maximum reactive power generation\n",
    "qmin = -10.0/proposed_network[\"baseMVA\"]       # Minimum reactive power generation\n",
    "\n",
    "add_gen!(\n",
    "        proposed_network,\n",
    "        gen_bus,\n",
    "        pg,\n",
    "        qmax, qmin,\n",
    "        pmax, pmin,\n",
    "        ycoord=42.5613229,\n",
    "        xcoord=-89.1246716\n",
    ")"
   ]
  },
  {
   "cell_type": "code",
   "execution_count": 35,
   "metadata": {},
   "outputs": [
    {
     "name": "stdout",
     "output_type": "stream",
     "text": [
      "Added a branch with index 31 from bus 24 to 7.\n"
     ]
    }
   ],
   "source": [
    "# Add the transformer to connect the 13.8 kV and 138 kV buses\n",
    "f_bus = new_bus_OB\n",
    "t_bus = 7\n",
    "br_r = 0.0003\n",
    "br_x = 0.01\n",
    "shunt_b = 0.0\n",
    "rate_a = 30/proposed_network[\"baseMVA\"]\n",
    "angmin = 60.0*pi/180\n",
    "angmax = 60.0*pi/180\n",
    "transformer = true\n",
    "\n",
    "add_branch!(\n",
    "        proposed_network,\n",
    "        f_bus, t_bus,\n",
    "        br_r, br_x,\n",
    "        shunt_b,\n",
    "        rate_a,\n",
    "        angmin, angmax,\n",
    "        transformer\n",
    "    )"
   ]
  },
  {
   "cell_type": "code",
   "execution_count": 36,
   "metadata": {
    "scrolled": true
   },
   "outputs": [
    {
     "name": "stdout",
     "output_type": "stream",
     "text": [
      "WARNING! The solver did not find an AC power flow solution! The values of the power flow variables in the network are not a power flow solution.\n",
      "\u001b[35m[warn | PowerModels]: ac power flow solver convergence failed!  use `show_trace = true` for more details\u001b[39m\n",
      "\u001b[35m[warn | PowerModels]: ac power flow solver convergence failed!  use `show_trace = true` for more details\u001b[39m\n",
      "\u001b[35m[warn | PowerPlots]: Data column \"ComponentType\" does not exist for DC line\u001b[39m\n"
     ]
    },
    {
     "data": {
      "text/plain": [
       "Electron.Window(Application(Base.PipeEndpoint(Base.Libc.WindowsRawSocket(0x0000000000000414) open, 0 bytes waiting), Process(`\u001b[4m'C:\\Users\\Gokhan\\.julia\\artifacts\\ca0342e0bab6657b29b8c9153ccf8b6983ee0670\\electron.exe'\u001b[24m \u001b[4m'C:\\Users\\Gokhan\\.julia\\packages\\Electron\\ILvWR\\src\\main.js'\u001b[24m \u001b[4m'\\\\.\\pipe\\jlel-15b7ada0588011ec2cdd5748ea514422'\u001b[24m \u001b[4m'\\\\.\\pipe\\jlel-sn-15b7ada0588011ec3c9acb3d1f05a3dc'\u001b[24m \u001b[4mlyqjozOtBF8DGbPDqe7jNKvgLvgjiEMsIytsD1PTb3jL/o8b1FNxlPnvVINer9d23cZP/dGJG/e9b8+ROqxwD2cAIKQdhaAOrQAmbWO+10BsA+Uxer18MsujdqyH9Flc4dkkY2N1TmQNWN3wVvfbH4zh5zINMD1eQeBMeh54In4=\u001b[24m`, ProcessRunning), [1 window]), 1, true, Channel{Any}(128))"
      ]
     },
     "execution_count": 36,
     "metadata": {},
     "output_type": "execute_result"
    }
   ],
   "source": [
    "# Run a power flow\n",
    "solve_power_flow!(proposed_network)\n",
    "\n",
    "# Plot the power flow results\n",
    "plot_powerflow(proposed_network)"
   ]
  },
  {
   "cell_type": "markdown",
   "metadata": {},
   "source": [
    "#### Adding Wind Plant to the Grid\n",
    "\n",
    "We will add wind plant named \"Dairyland Power Cooperative\" in Seymour, WI"
   ]
  },
  {
   "cell_type": "code",
   "execution_count": 37,
   "metadata": {},
   "outputs": [
    {
     "name": "stdout",
     "output_type": "stream",
     "text": [
      "Added a bus with index 25.\n"
     ]
    },
    {
     "data": {
      "text/plain": [
       "25"
      ]
     },
     "execution_count": 37,
     "metadata": {},
     "output_type": "execute_result"
    }
   ],
   "source": [
    "# Add a 138 kV bus for Dairyland Power Cooperative\n",
    "bus_type = 2      # Type of bus (1: PQ bus, 2: PV bus, 3: Reference bus)\n",
    "vbase_kv = 138.0   # Base voltage of the bus (for per unit normalization) \n",
    "vmin = 0.95       # Maximum voltage in per unit\n",
    "vmax = 1.05       # Minimum voltage in per unit\n",
    "vm = 1.00         # Initial voltage magnitude setpoint\n",
    "\n",
    "# Geographical coordinates of the bus\n",
    "ycoord = 43.35842   \n",
    "xcoord = -90.624\n",
    "\n",
    "new_bus_DPC = add_bus!(\n",
    "    proposed_network,\n",
    "    bus_type,\n",
    "    vbase_kv,\n",
    "    vmin,\n",
    "    vmax,\n",
    "    xcoord,\n",
    "    ycoord,\n",
    "    bus_name=\"DPC WND\", # also adding a name to the bus!\n",
    "    vm=vm\n",
    "    )"
   ]
  },
  {
   "cell_type": "code",
   "execution_count": 38,
   "metadata": {},
   "outputs": [
    {
     "name": "stdout",
     "output_type": "stream",
     "text": [
      "Added a generator with index 8 at bus 25.\n"
     ]
    }
   ],
   "source": [
    "# Add a single generator\n",
    "gen_bus = new_bus_DPC                              # Node where the generator should be added\n",
    "pg = 80/proposed_network[\"baseMVA\"]         # Active power generation\n",
    "pmax = 98/proposed_network[\"baseMVA\"]       # Maximum active power generation\n",
    "pmin = 0.0/proposed_network[\"baseMVA\"]         # Minimum active power generation\n",
    "qmax = 40.0/proposed_network[\"baseMVA\"]        # Maximum reactive power generation\n",
    "qmin = -40.0/proposed_network[\"baseMVA\"]       # Minimum reactive power generation\n",
    "\n",
    "add_gen!(\n",
    "        proposed_network,\n",
    "        gen_bus,\n",
    "        pg,\n",
    "        qmax, qmin,\n",
    "        pmax, pmin,\n",
    "        ycoord=43.734613229,\n",
    "        xcoord=-91.1246716\n",
    ")"
   ]
  },
  {
   "cell_type": "code",
   "execution_count": 39,
   "metadata": {},
   "outputs": [
    {
     "name": "stdout",
     "output_type": "stream",
     "text": [
      "Added a branch with index 32 from bus 25 to 1.\n"
     ]
    }
   ],
   "source": [
    "# Add the transformer to connect the 138 kV and 22 kV buses\n",
    "f_bus = new_bus_DPC\n",
    "t_bus = 1\n",
    "br_r = 0.0003\n",
    "br_x = 0.01\n",
    "shunt_b = 0.0\n",
    "rate_a = 100/proposed_network[\"baseMVA\"]\n",
    "angmin = 60.0*pi/180\n",
    "angmax = 60.0*pi/180\n",
    "transformer = true\n",
    "\n",
    "add_branch!(\n",
    "        proposed_network,\n",
    "        f_bus, t_bus,\n",
    "        br_r, br_x,\n",
    "        shunt_b,\n",
    "        rate_a,\n",
    "        angmin, angmax,\n",
    "        transformer\n",
    "    )"
   ]
  },
  {
   "cell_type": "markdown",
   "metadata": {},
   "source": [
    "#### Check Powers and Voltages\n",
    "\n"
   ]
  },
  {
   "cell_type": "code",
   "execution_count": 40,
   "metadata": {},
   "outputs": [
    {
     "name": "stdout",
     "output_type": "stream",
     "text": [
      "The solver found an AC power flow solution.\n",
      "\u001b[35m[warn | PowerPlots]: Data column \"ComponentType\" does not exist for DC line\u001b[39m\n",
      "Total load = 2766.4031999999997 MW, total generation = 2843.04 MW and total losses = -76.63680000000022 MW \n"
     ]
    }
   ],
   "source": [
    "# Run a power flow\n",
    "solve_power_flow!(proposed_network)\n",
    "\n",
    "# Plot the power flow results\n",
    "plot_powerflow(proposed_network)\n",
    "\n",
    "# Compute the total load, generation and losses\n",
    "total_load = 0.0\n",
    "for i in keys(proposed_network[\"load\"]) \n",
    "    total_load=total_load+proposed_network[\"load\"][i][\"pd\"]*proposed_network[\"baseMVA\"]\n",
    "end\n",
    "\n",
    "total_gen = 0.0\n",
    "for i in keys(proposed_network[\"gen\"]) \n",
    "    total_gen=total_gen+proposed_network[\"gen\"][i][\"pg\"]*proposed_network[\"baseMVA\"]\n",
    "end\n",
    "\n",
    "println(\"Total load = $total_load MW, total generation = $total_gen MW and total losses = $(total_load-total_gen) MW \")"
   ]
  },
  {
   "cell_type": "code",
   "execution_count": 41,
   "metadata": {},
   "outputs": [
    {
     "name": "stdout",
     "output_type": "stream",
     "text": [
      "Gen 8 at bus DPC WND:\n",
      "Active power: 80.0 (max is 98.0)\n",
      "Reactive power: 0.0 (max is 40.0)\n",
      "\n",
      "Gen 4 at bus WORLD NW:\n",
      "Active power: 810.0 (max is 1000.0)\n",
      "Reactive power: 193.03 (max is 9900.0)\n",
      "\n",
      "Gen 1 at bus MAD 138: HIGH LOAD\n",
      "Active power: 2.0 (max is 2.0)\n",
      "Reactive power: -1.0 (max is -1.0)\n",
      "\n",
      "Gen 5 at bus World SE:\n",
      "Active power: 805.0000000000001 (max is 1000.0)\n",
      "Reactive power: 136.7 (max is 9900.0)\n",
      "\n",
      "OVERLOAD!!!!! Gen 2 at bus PNTBCH G1: OVERLOAD!!!!!\n",
      "Active power: 512.02 (max is 512.0)\n",
      "Reactive power: 74.74 (max is 205.6)\n",
      "\n",
      "Gen 6 at bus WAUSAU 41.6: HIGH LOAD\n",
      "Active power: 100.0 (max is 100.0)\n",
      "Reactive power: 0.0 (max is 50.0)\n",
      "\n",
      "Gen 7 at bus OB SOLAR:\n",
      "Active power: 20.0 (max is 24.13)\n",
      "Reactive power: 0.0 (max is 10.0)\n",
      "\n",
      "OVERLOAD!!!!! Gen 3 at bus PNTBCH G1: OVERLOAD!!!!!\n",
      "Active power: 514.02 (max is 514.0)\n",
      "Reactive power: 71.98 (max is 198.0)\n",
      "\n"
     ]
    }
   ],
   "source": [
    "# Print the generator dispatch\n",
    "print_gen_dispatch(proposed_network)\n"
   ]
  },
  {
   "cell_type": "code",
   "execution_count": 42,
   "metadata": {},
   "outputs": [
    {
     "name": "stdout",
     "output_type": "stream",
     "text": [
      "Bus 24: Voltage magnitude is 1.0\n",
      "UNDERVOLTAGE!!!!! Bus 4: Voltage magnitude is 0.9481134269365993 UNDERVOLTAGE!!!!!\n",
      "Bus 1: Voltage magnitude is 0.9802602072140357\n",
      "Bus 12: Voltage magnitude is 0.9550628067569934\n",
      "UNDERVOLTAGE!!!!! Bus 20: Voltage magnitude is 0.7235783300336274 UNDERVOLTAGE!!!!!\n",
      "Bus 2: Voltage magnitude is 0.9553706097938935\n",
      "Bus 6: Voltage magnitude is 0.9577732\n",
      "Bus 25: Voltage magnitude is 1.0\n",
      "Bus 23: Voltage magnitude is 1.01\n",
      "Bus 22: Voltage magnitude is 1.0000024\n",
      "UNDERVOLTAGE!!!!! Bus 11: Voltage magnitude is 0.8806104509248821 UNDERVOLTAGE!!!!!\n",
      "Bus 13: Voltage magnitude is 1.0\n",
      "Bus 5: Voltage magnitude is 0.9577732\n",
      "UNDERVOLTAGE!!!!! Bus 15: Voltage magnitude is 0.7374290910683262 UNDERVOLTAGE!!!!!\n",
      "UNDERVOLTAGE!!!!! Bus 14: Voltage magnitude is 0.8694654721367607 UNDERVOLTAGE!!!!!\n",
      "Bus 21: Voltage magnitude is 1.0000005\n",
      "Bus 7: Voltage magnitude is 0.9652716708656418\n",
      "UNDERVOLTAGE!!!!! Bus 8: Voltage magnitude is 0.7235783300336274 UNDERVOLTAGE!!!!!\n",
      "Bus 17: Voltage magnitude is 0.9728712049018214\n",
      "Bus 10: Voltage magnitude is 0.9574233855012572\n",
      "UNDERVOLTAGE!!!!! Bus 19: Voltage magnitude is 0.9010438954176889 UNDERVOLTAGE!!!!!\n",
      "Bus 9: Voltage magnitude is 0.9574913141975676\n",
      "UNDERVOLTAGE!!!!! Bus 18: Voltage magnitude is 0.9385218628550305 UNDERVOLTAGE!!!!!\n",
      "Bus 3: Voltage magnitude is 0.9553706097938935\n"
     ]
    }
   ],
   "source": [
    "# Print voltage magnitudes\n",
    "print_voltage_magnitudes(proposed_network)\n"
   ]
  },
  {
   "cell_type": "code",
   "execution_count": null,
   "metadata": {},
   "outputs": [],
   "source": [
    "# Print power flows\n",
    "print_power_flows(proposed_network)"
   ]
  },
  {
   "cell_type": "code",
   "execution_count": 44,
   "metadata": {
    "scrolled": true
   },
   "outputs": [
    {
     "data": {
      "text/plain": [
       "0.2"
      ]
     },
     "execution_count": 44,
     "metadata": {},
     "output_type": "execute_result"
    }
   ],
   "source": [
    "proposed_network[\"gen\"][\"7\"][\"pg\"]"
   ]
  },
  {
   "cell_type": "code",
   "execution_count": 45,
   "metadata": {},
   "outputs": [],
   "source": [
    "# # Change generation active power setpoints\n",
    "\n",
    "# # Set active power generation \"pg\" at generator 7 (Oak Creek) to 118 MW.\n",
    "# gen_number = \"7\"    # Number of the generator where you want to change the voltage magnitude, use the quotes!\n",
    "# pg = 10            # Active power in MW (we do the per unit normalization below)\n",
    "# proposed_network[\"gen\"][gen_number][\"pg\"] = pg/proposed_network[\"baseMVA\"]\n",
    "\n",
    "# # Set active power generation \"pg\" at generator 5 (Point Beach) to 510 MW.\n",
    "# gen_number = \"5\"    # Number of the generator where you want to change the voltage magnitude, use the quotes!\n",
    "# pg = 510            # Active power in MW (we do the per unit normalization below)\n",
    "# existing_network[\"gen\"][gen_number][\"pg\"] = pg/existing_network[\"baseMVA\"];"
   ]
  },
  {
   "cell_type": "markdown",
   "metadata": {},
   "source": [
    "## 5. Discussion of Results \n",
    "\n",
    "Based on the research in Section 2 and the power flow analysis in Section 3, discuss the benefits and strenghts of your solution, possible drawbacks/improvements that could be done if you had more time."
   ]
  },
  {
   "cell_type": "markdown",
   "metadata": {},
   "source": [
    "## 6. Conclusion\n",
    "\n",
    "Summarize your conclusions and recommendations for how to enable low-carbon generation in the Wisconsin grid."
   ]
  },
  {
   "cell_type": "code",
   "execution_count": null,
   "metadata": {},
   "outputs": [],
   "source": []
  },
  {
   "cell_type": "code",
   "execution_count": null,
   "metadata": {},
   "outputs": [],
   "source": []
  }
 ],
 "metadata": {
  "@webio": {
   "lastCommId": null,
   "lastKernelId": null
  },
  "kernelspec": {
   "display_name": "Julia 1.6.4",
   "language": "julia",
   "name": "julia-1.6"
  },
  "language_info": {
   "file_extension": ".jl",
   "mimetype": "application/julia",
   "name": "julia",
   "version": "1.6.4"
  }
 },
 "nbformat": 4,
 "nbformat_minor": 2
}
